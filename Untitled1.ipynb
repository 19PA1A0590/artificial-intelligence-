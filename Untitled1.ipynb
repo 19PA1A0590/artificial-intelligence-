{
  "nbformat": 4,
  "nbformat_minor": 0,
  "metadata": {
    "colab": {
      "name": "Untitled1.ipynb",
      "provenance": [],
      "authorship_tag": "ABX9TyN+DxNjmvMKotqQOeR3SGHz",
      "include_colab_link": true
    },
    "kernelspec": {
      "name": "python3",
      "display_name": "Python 3"
    }
  },
  "cells": [
    {
      "cell_type": "markdown",
      "metadata": {
        "id": "view-in-github",
        "colab_type": "text"
      },
      "source": [
        "<a href=\"https://colab.research.google.com/github/19PA1A0590/artificial-intelligence-/blob/master/Untitled1.ipynb\" target=\"_parent\"><img src=\"https://colab.research.google.com/assets/colab-badge.svg\" alt=\"Open In Colab\"/></a>"
      ]
    },
    {
      "cell_type": "code",
      "metadata": {
        "id": "LyOCpFlP0V20",
        "colab_type": "code",
        "colab": {
          "base_uri": "https://localhost:8080/",
          "height": 121
        },
        "outputId": "d72cd4fa-7c78-45f4-8b4d-11844760b55b"
      },
      "source": [
        "import numpy as np\n",
        "x=np.arange(start=1,stop=10).reshape(3,3)\n",
        "x=np.transpose(x)\n",
        "print(x)\n",
        "x=np.insert(x,1,[5,6,7],axis=1)\n",
        "print(x)"
      ],
      "execution_count": 4,
      "outputs": [
        {
          "output_type": "stream",
          "text": [
            "[[1 4 7]\n",
            " [2 5 8]\n",
            " [3 6 9]]\n",
            "[[1 5 4 7]\n",
            " [2 6 5 8]\n",
            " [3 7 6 9]]\n"
          ],
          "name": "stdout"
        }
      ]
    }
  ]
}
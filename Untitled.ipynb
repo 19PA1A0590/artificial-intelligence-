{
  "nbformat": 4,
  "nbformat_minor": 0,
  "metadata": {
    "colab": {
      "name": "Untitled",
      "provenance": [],
      "authorship_tag": "ABX9TyPiScMIyC0kHKe59y2LwBJH",
      "include_colab_link": true
    },
    "kernelspec": {
      "name": "python3",
      "display_name": "Python 3"
    }
  },
  "cells": [
    {
      "cell_type": "markdown",
      "metadata": {
        "id": "view-in-github",
        "colab_type": "text"
      },
      "source": [
        "<a href=\"https://colab.research.google.com/github/19PA1A0590/artificial-intelligence-/blob/master/Untitled.ipynb\" target=\"_parent\"><img src=\"https://colab.research.google.com/assets/colab-badge.svg\" alt=\"Open In Colab\"/></a>"
      ]
    },
    {
      "cell_type": "code",
      "metadata": {
        "id": "0XdjpxWMGuMU",
        "colab_type": "code",
        "colab": {
          "base_uri": "https://localhost:8080/",
          "height": 349
        },
        "outputId": "47a9796b-2bc4-413a-c1a6-4e801d4c39c6"
      },
      "source": [
        "import pandas as pd\n",
        "iris=pd.read_csv(\"https://raw.githubusercontent.com/bhargav23/Dataset/master/Iris_data_sample.csv\",index_col=0)\n",
        "print(iris['SepalLengthCm'])\n",
        "print(iris.loc[5])"
      ],
      "execution_count": 12,
      "outputs": [
        {
          "output_type": "stream",
          "text": [
            "1      5.1\n",
            "2      4.9\n",
            "3      4.7\n",
            "4       ??\n",
            "5        5\n",
            "      ... \n",
            "146    6.7\n",
            "147    6.3\n",
            "148    6.5\n",
            "149    6.2\n",
            "150    5.9\n",
            "Name: SepalLengthCm, Length: 150, dtype: object\n",
            "SepalLengthCm              5\n",
            "SepalWidthCm             3.6\n",
            "PetalLengthCm            ###\n",
            "PetalWidthCm             0.2\n",
            "Species          Iris-setosa\n",
            "Name: 5, dtype: object\n"
          ],
          "name": "stdout"
        }
      ]
    }
  ]
}
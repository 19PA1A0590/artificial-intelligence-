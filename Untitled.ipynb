{
  "nbformat": 4,
  "nbformat_minor": 0,
  "metadata": {
    "colab": {
      "name": "Untitled",
      "provenance": [],
      "authorship_tag": "ABX9TyOSM4aoPFCh6z9Ms+xKeHR+",
      "include_colab_link": true
    },
    "kernelspec": {
      "name": "python3",
      "display_name": "Python 3"
    }
  },
  "cells": [
    {
      "cell_type": "markdown",
      "metadata": {
        "id": "view-in-github",
        "colab_type": "text"
      },
      "source": [
        "<a href=\"https://colab.research.google.com/github/19PA1A0590/artificial-intelligence-/blob/master/Untitled.ipynb\" target=\"_parent\"><img src=\"https://colab.research.google.com/assets/colab-badge.svg\" alt=\"Open In Colab\"/></a>"
      ]
    },
    {
      "cell_type": "code",
      "metadata": {
        "id": "0XdjpxWMGuMU",
        "colab_type": "code",
        "colab": {
          "base_uri": "https://localhost:8080/",
          "height": 557
        },
        "outputId": "ce874d34-257d-4232-9465-69b36e6055f4"
      },
      "source": [
        "import pandas as pd\n",
        "iris=pd.read_csv(\"https://raw.githubusercontent.com/bhargav23/Dataset/master/Iris_data_sample.csv\",index_col=0)\n",
        "print(iris)\n",
        "iris=iris.tail(15)\n",
        "print(iris)"
      ],
      "execution_count": 10,
      "outputs": [
        {
          "output_type": "stream",
          "text": [
            "    SepalLengthCm  SepalWidthCm PetalLengthCm  PetalWidthCm         Species\n",
            "1             5.1           3.5           1.4           0.2     Iris-setosa\n",
            "2             4.9           NaN           1.4           0.2             NaN\n",
            "3             4.7           3.2           1.3           0.2     Iris-setosa\n",
            "4              ??           3.1           1.5           0.2     Iris-setosa\n",
            "5               5           3.6           ###           0.2     Iris-setosa\n",
            "..            ...           ...           ...           ...             ...\n",
            "146           6.7           3.0           5.2           2.3  Iris-virginica\n",
            "147           6.3           2.5             5           1.9  Iris-virginica\n",
            "148           6.5           3.0           5.2           2.0  Iris-virginica\n",
            "149           6.2           3.4           5.4           2.3  Iris-virginica\n",
            "150           5.9           3.0           5.1           1.8  Iris-virginica\n",
            "\n",
            "[150 rows x 5 columns]\n",
            "    SepalLengthCm  SepalWidthCm PetalLengthCm  PetalWidthCm         Species\n",
            "136           7.7           3.0           6.1           2.3  Iris-virginica\n",
            "137           6.3           3.4           5.6           2.4  Iris-virginica\n",
            "138           6.4           3.1           5.5           1.8  Iris-virginica\n",
            "139             6           3.0           4.8           1.8  Iris-virginica\n",
            "140           6.9           3.1           5.4           2.1  Iris-virginica\n",
            "141           6.7           3.1           5.6           2.4  Iris-virginica\n",
            "142           6.9           3.1           5.1           2.3  Iris-virginica\n",
            "143           5.8           2.7           5.1           1.9  Iris-virginica\n",
            "144           6.8           3.2           5.9           2.3  Iris-virginica\n",
            "145           6.7           3.3           5.7           2.5  Iris-virginica\n",
            "146           6.7           3.0           5.2           2.3  Iris-virginica\n",
            "147           6.3           2.5             5           1.9  Iris-virginica\n",
            "148           6.5           3.0           5.2           2.0  Iris-virginica\n",
            "149           6.2           3.4           5.4           2.3  Iris-virginica\n",
            "150           5.9           3.0           5.1           1.8  Iris-virginica\n"
          ],
          "name": "stdout"
        }
      ]
    }
  ]
}
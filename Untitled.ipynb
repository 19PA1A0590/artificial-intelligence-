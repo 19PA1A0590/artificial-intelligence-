{
  "nbformat": 4,
  "nbformat_minor": 0,
  "metadata": {
    "colab": {
      "name": "Untitled",
      "provenance": [],
      "authorship_tag": "ABX9TyOroeMiM4Zl3ZrN6UCTUvMe",
      "include_colab_link": true
    },
    "kernelspec": {
      "name": "python3",
      "display_name": "Python 3"
    }
  },
  "cells": [
    {
      "cell_type": "markdown",
      "metadata": {
        "id": "view-in-github",
        "colab_type": "text"
      },
      "source": [
        "<a href=\"https://colab.research.google.com/github/19PA1A0590/artificial-intelligence-/blob/master/Untitled.ipynb\" target=\"_parent\"><img src=\"https://colab.research.google.com/assets/colab-badge.svg\" alt=\"Open In Colab\"/></a>"
      ]
    },
    {
      "cell_type": "code",
      "metadata": {
        "id": "0XdjpxWMGuMU",
        "colab_type": "code",
        "colab": {
          "base_uri": "https://localhost:8080/",
          "height": 279
        },
        "outputId": "2fd818f4-7d01-4d54-b2fa-70bef7d9bc49"
      },
      "source": [
        "import pandas as pd\n",
        "iris=pd.read_csv(\"https://raw.githubusercontent.com/bhargav23/Dataset/master/Iris_data_sample.csv\")\n",
        "print(iris)"
      ],
      "execution_count": 2,
      "outputs": [
        {
          "output_type": "stream",
          "text": [
            "     Unnamed: 0 SepalLengthCm  ...  PetalWidthCm         Species\n",
            "0             1           5.1  ...           0.2     Iris-setosa\n",
            "1             2           4.9  ...           0.2             NaN\n",
            "2             3           4.7  ...           0.2     Iris-setosa\n",
            "3             4            ??  ...           0.2     Iris-setosa\n",
            "4             5             5  ...           0.2     Iris-setosa\n",
            "..          ...           ...  ...           ...             ...\n",
            "145         146           6.7  ...           2.3  Iris-virginica\n",
            "146         147           6.3  ...           1.9  Iris-virginica\n",
            "147         148           6.5  ...           2.0  Iris-virginica\n",
            "148         149           6.2  ...           2.3  Iris-virginica\n",
            "149         150           5.9  ...           1.8  Iris-virginica\n",
            "\n",
            "[150 rows x 6 columns]\n"
          ],
          "name": "stdout"
        }
      ]
    }
  ]
}